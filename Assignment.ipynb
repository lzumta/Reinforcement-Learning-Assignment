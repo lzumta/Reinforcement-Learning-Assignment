{
 "cells": [
  {
   "cell_type": "markdown",
   "id": "02944396",
   "metadata": {
    "id": "02944396"
   },
   "source": [
    "# Assignment"
   ]
  },
  {
   "cell_type": "code",
   "execution_count": 14,
   "id": "c9652bc6",
   "metadata": {
    "pycharm": {
     "is_executing": false
    },
    "id": "c9652bc6"
   },
   "outputs": [],
   "source": [
    "# Import \n",
    "import random\n",
    "\n",
    "import numpy as np\n",
    "import matplotlib.pyplot as plt\n",
    "import torch\n",
    "from torch import nn\n",
    "from degree_freedom_queen import *\n",
    "from degree_freedom_king1 import *\n",
    "from degree_freedom_king2 import *\n",
    "from generate_game import *\n",
    "from Chess_env import *\n",
    "import torch.nn.functional as F\n",
    "from statistics import mean\n",
    "import tensorflow as tf\n",
    "from tensorflow.keras import Model, Sequential\n",
    "from tensorflow.keras.layers import Dense, Embedding, Reshape\n",
    "from tensorflow.keras.optimizers import Adam\n",
    "\n",
    "\n",
    "size_board = 4"
   ]
  },
  {
   "cell_type": "markdown",
   "id": "0bceca7c",
   "metadata": {
    "id": "0bceca7c"
   },
   "source": [
    "## The Environment\n",
    "\n",
    "You can find the environment in the file Chess_env, which contains the class Chess_env. To define an object, you need to provide the board size considered as input. In our example, size_board=4. \n",
    "Chess_env is composed by the following methods:\n",
    "\n",
    "1. Initialise_game. The method initialises an episode by placing the three pieces considered (Agent's king and queen, enemy's king) in the chess board. The outputs of the method are described below in order.\n",
    "\n",
    "     S $\\;$ A matrix representing the board locations filled with 4 numbers: 0, no piece in that position; 1, location of the \n",
    "     agent's king; 2 location of the queen; 3 location of the enemy king.\n",
    "     \n",
    "     X $\\;$ The features, that is the input to the neural network. See the assignment for more information regarding the            definition of the features adopted. To personalise this, go into the Features method of the class Chess_env() and change        accordingly.\n",
    "     \n",
    "     allowed_a $\\;$ The allowed actions that the agent can make. The agent is moving a king, with a total number of 8                possible actions, and a queen, with a total number of $(board_{size}-1)\\times 8$ actions. The total number of possible actions correspond      to the sum of the two, but not all actions are allowed in a given position (movements to locations outside the borders or      against chess rules). Thus, the variable allowed_a is a vector that is one (zero) for an action that the agent can (can't)      make. Be careful, apply the policy considered on the actions that are allowed only.\n",
    "     \n",
    "\n",
    "2. OneStep. The method performs a one step update of the system. Given as input the action selected by the agent, it updates the chess board by performing that action and the response of the enemy king (which is a random allowed action in the settings considered). The first three outputs are the same as for the Initialise_game method, but the variables are computed for the position reached after the update of the system. The fourth and fifth outputs are:\n",
    "\n",
    "     R $\\;$ The reward. To change this, look at the OneStep method of the class where the rewards are set.\n",
    "     \n",
    "     Done $\\;$ A variable that is 1 if the episode has ended (checkmate or draw).\n",
    "     \n",
    "     \n",
    "3. Features. Given the chessboard position, the method computes the features.\n",
    "\n",
    "This information and a quick analysis of the class should be all you need to get going. The other functions that the class exploits are uncommented and constitute an example on how not to write a python code. You can take a look at them if you want, but it is not necessary.\n",
    "\n",
    "\n",
    "\n",
    "\n"
   ]
  },
  {
   "cell_type": "code",
   "execution_count": 15,
   "id": "9593a299",
   "metadata": {
    "pycharm": {
     "is_executing": false
    },
    "id": "9593a299"
   },
   "outputs": [],
   "source": [
    "## INITIALISE THE ENVIRONMENT\n",
    "\n",
    "env=Chess_Env(size_board)"
   ]
  },
  {
   "cell_type": "code",
   "execution_count": 16,
   "id": "bbc05bfd",
   "metadata": {
    "pycharm": {
     "is_executing": false
    },
    "colab": {
     "base_uri": "https://localhost:8080/"
    },
    "id": "bbc05bfd",
    "outputId": "62d2d763-da81-4b28-be17-a6d057fa1ead"
   },
   "outputs": [
    {
     "name": "stdout",
     "text": [
      "[[0 0 0 3]\n [0 2 0 0]\n [0 1 0 0]\n [0 0 0 0]]\ncheck?  0\ndofk2  0\n\n[[0 2 0 0]\n [0 0 0 3]\n [0 1 0 0]\n [0 0 0 0]]\n1  0\ncheck?  0\ndofk2  0\n\n[[0 2 0 0]\n [0 0 0 3]\n [0 0 0 0]\n [0 0 1 0]]\n0  1\ncheck?  0\ndofk2  0\n"
     ],
     "output_type": "stream"
    }
   ],
   "source": [
    "## PRINT 5 STEPS OF AN EPISODE CONSIDERING A RANDOM AGENT\n",
    "\n",
    "S,X,allowed_a=env.Initialise_game()                       # INTIALISE GAME\n",
    "\n",
    "print(S)                                                  # PRINT CHESS BOARD (SEE THE DESCRIPTION ABOVE)\n",
    "\n",
    "print('check? ',env.check)                                # PRINT VARIABLE THAT TELLS IF ENEMY KING IS IN CHECK (1) OR NOT (0)\n",
    "print('dofk2 ',np.sum(env.dfk2_constrain).astype(int))    # PRINT THE NUMBER OF LOCATIONS THAT THE ENEMY KING CAN MOVE TO\n",
    "\n",
    "\n",
    "for i in range(5):\n",
    "    \n",
    "    a,_=np.where(allowed_a==1)                  # FIND WHAT THE ALLOWED ACTIONS ARE\n",
    "    a_agent=np.random.permutation(a)[0]         # MAKE A RANDOM ACTION\n",
    "\n",
    "    S,X,allowed_a,R,Done=env.OneStep(a_agent)   # UPDATE THE ENVIRONMENT\n",
    "    \n",
    "    \n",
    "    ## PRINT CHESS BOARD AND VARIABLES\n",
    "    print('')\n",
    "    print(S)\n",
    "    print(R,'', Done)\n",
    "    print('check? ',env.check)\n",
    "    print('dofk2 ',np.sum(env.dfk2_constrain).astype(int))\n",
    "    \n",
    "    \n",
    "    # TERMINATE THE EPISODE IF Done=True (DRAW OR CHECKMATE)\n",
    "    if Done:\n",
    "        break\n",
    "        \n"
   ]
  },
  {
   "cell_type": "code",
   "execution_count": 17,
   "id": "fc16cf7b",
   "metadata": {
    "colab": {
     "base_uri": "https://localhost:8080/"
    },
    "id": "fc16cf7b",
    "outputId": "a0825e95-b778-4317-c3a6-4300389dfcff",
    "pycharm": {
     "is_executing": false
    }
   },
   "outputs": [
    {
     "name": "stdout",
     "text": [
      "Random_Agent, Average reward: 2.01 Number of steps:  7.323\n"
     ],
     "output_type": "stream"
    }
   ],
   "source": [
    "# PERFORM N_episodes=1000 EPISODES MAKING RANDOM ACTIONS AND COMPUTE THE AVERAGE REWARD AND NUMBER OF MOVES \n",
    "\n",
    "S,X,allowed_a=env.Initialise_game()\n",
    "N_episodes=1000\n",
    "\n",
    "# VARIABLES WHERE TO SAVE THE FINAL REWARD IN AN EPISODE AND THE NUMBER OF MOVES \n",
    "R_save_random = np.zeros([N_episodes, 1])\n",
    "N_moves_save_random = np.zeros([N_episodes, 1])\n",
    "\n",
    "for n in range(N_episodes):\n",
    "    \n",
    "    S,X,allowed_a=env.Initialise_game()     # INITIALISE GAME\n",
    "    Done=0                                  # SET Done=0 AT THE BEGINNING\n",
    "    i=1                                     # COUNTER FOR THE NUMBER OF ACTIONS (MOVES) IN AN EPISODE\n",
    "    \n",
    "    # UNTIL THE EPISODE IS NOT OVER...(Done=0)\n",
    "    while Done==0:\n",
    "        \n",
    "        # SAME AS THE CELL BEFORE, BUT SAVING THE RESULTS WHEN THE EPISODE TERMINATES \n",
    "        \n",
    "        a,_=np.where(allowed_a==1)\n",
    "        a_agent=np.random.permutation(a)[0]\n",
    "\n",
    "        S,X,allowed_a,R,Done=env.OneStep(a_agent)\n",
    "        \n",
    "        \n",
    "        if Done:\n",
    "            \n",
    "            R_save_random[n]=np.copy(R)\n",
    "            N_moves_save_random[n]=np.copy(i)\n",
    "\n",
    "            break\n",
    "\n",
    "        i=i+1                               # UPDATE THE COUNTER\n",
    "\n",
    "\n",
    "\n",
    "# AS YOU SEE, THE PERFORMANCE OF A RANDOM AGENT ARE NOT GREAT, SINCE THE MAJORITY OF THE POSITIONS END WITH A DRAW \n",
    "# (THE ENEMY KING IS NOT IN CHECK AND CAN'T MOVE)\n",
    "\n",
    "print('Random_Agent, Average reward:',np.mean(R_save_random),'Number of steps: ',np.mean(N_moves_save_random))\n",
    "\n"
   ]
  },
  {
   "cell_type": "code",
   "execution_count": 18,
   "id": "ece20429",
   "metadata": {
    "id": "ece20429",
    "pycharm": {
     "is_executing": false
    }
   },
   "outputs": [],
   "source": [
    "# INITIALISE THE PARAMETERS OF YOUR NEURAL NETWORK AND...\n",
    "# PLEASE CONSIDER TO USE A MASK OF ONE FOR THE ACTION MADE AND ZERO OTHERWISE IF YOU ARE NOT USING VANILLA GRADIENT DESCENT...\n",
    "# WE SUGGEST A NETWORK WITH ONE HIDDEN LAYER WITH SIZE 200. \n",
    "\n",
    "# INITIALISE THE PARAMETERS OF YOUR NEURAL NETWORK AND...\n",
    "# PLEASE CONSIDER TO USE A MASK OF ONE FOR THE ACTION MADE AND ZERO OTHERWISE IF YOU ARE NOT USING VANILLA GRADIENT DESCENT...\n",
    "# WE SUGGEST A NETWORK WITH ONE HIDDEN LAYER WITH SIZE 200. \n",
    "\n",
    "\n",
    "S,X,allowed_a=env.Initialise_game()\n",
    "N_a=np.shape(allowed_a)[0]   # TOTAL NUMBER OF POSSIBLE ACTIONS\n",
    "\n",
    "N_in=np.shape(X)[0]    ## INPUT SIZE\n",
    "N_h=200                ## NUMBER OF HIDDEN NODES\n",
    "\n",
    "\n",
    "## INITALISE YOUR NEURAL NETWORK...\n",
    "\n",
    "def build_model(optimizer):\n",
    "    model = Sequential()\n",
    "    model.add(Dense(N_h, input_dim=N_in, activation='relu'))\n",
    "    model.add(Dense(N_a, activation='relu'))\n",
    "    model.compile(loss='mse', optimizer=optimizer)\n",
    "    return model\n",
    "\n",
    "\n",
    "#class QNetwork(nn.Module):\n",
    "\n",
    "    #def __init__(self, N_in, N_h, N_a):\n",
    "\n",
    "     #   super(QNetwork, self).__init__()\n",
    "     #   self.fc1 = nn.Linear(N_in, N_h)\n",
    "     #   self.fc2 = nn.Linear(N_h, N_a)\n",
    "\n",
    "\n",
    "   # def forward(self, state):\n",
    "    #    x = F.relu(self.fc1(state))\n",
    "    #    return self.fc2(x)\n",
    "\n",
    "\n",
    "# HYPERPARAMETERS SUGGESTED (FOR A GRID SIZE OF 4)\n",
    "\n",
    "epsilon_0 = 0.95     # STARTING VALUE OF EPSILON FOR THE EPSILON-GREEDY POLICY\n",
    "beta = 0.005      # THE PARAMETER SETS HOW QUICKLY THE VALUE OF EPSILON IS DECAYING (SEE epsilon_f BELOW)\n",
    "gamma = 0.8        # THE DISCOUNT FACTOR\n",
    "eta = 0.01        # THE LEARNING RATE\n",
    "\n",
    "N_episodes = 100000 # THE NUMBER OF GAMES TO BE PLAYED 00\n",
    "\n",
    "# SAVING VARIABLES\n",
    "R_save = np.zeros([N_episodes, 1])\n",
    "N_moves_save = np.zeros([N_episodes, 1])\n",
    "\n",
    "\n",
    "#q_network = QNetwork(N_in, N_h, N_a)\n",
    "#target_network = QNetwork(N_in, N_h, N_a)\n",
    "#criterion = torch.nn.MSELoss(reduction='sum')\n",
    "#optimizer = torch.optim.Adam(q_network.parameters(), lr=eta)\n"
   ]
  },
  {
   "cell_type": "code",
   "execution_count": 19,
   "id": "c336775b",
   "metadata": {
    "pycharm": {
     "name": "#%% choose action\n",
     "is_executing": false
    },
    "id": "c336775b"
   },
   "outputs": [],
   "source": [
    "def choose_action(X, epsilon_f, allowed_a, n_exploration, n_exploitation):\n",
    "            # get indexes from allowed actions\n",
    "    a,_=np.where(allowed_a==1)\n",
    "    random_int = random.randint(0,1)\n",
    "    if epsilon_f >= random_int:\n",
    "            # exploration => perform a random move    \n",
    "        action_to_perform = np.random.permutation(a)[0]\n",
    "        n_exploration += 1\n",
    "\n",
    "    else:\n",
    "            # exploitation\n",
    "            # print(\"exploitation\")\n",
    "       # X = torch.from_numpy(X) # make tensor for network\n",
    "        \n",
    "        q_values = q_network.predict(tf.expand_dims(tf.convert_to_tensor(X), axis=0))  # get Q_value predictions for all actions\n",
    "            \n",
    "            \n",
    "        q_values_np = q_values[0]\n",
    "        q_values_possible = [q_values_np[i] for i in a]\n",
    "        a_agent_idx = np.argmax(q_values_possible)\n",
    "        action_to_perform = a[a_agent_idx]\n",
    "        n_exploitation += 1\n",
    "                \n",
    "    return action_to_perform, n_exploration, n_exploitation\n",
    "    \n",
    "    \n",
    "    "
   ]
  },
  {
   "cell_type": "code",
   "execution_count": 20,
   "id": "c7ee412a",
   "metadata": {
    "pycharm": {
     "name": "#%% save memory\n",
     "is_executing": false
    },
    "id": "c7ee412a"
   },
   "outputs": [],
   "source": [
    "def retrain(memory, q_network, target_network,batch_size):\n",
    "    #minibatch = random.choices(memory, k=batch_size-1)\n",
    "    minibatch = [memory[-1]]\n",
    "    for state, action, reward, next_state, terminated in minibatch:\n",
    "        state = tf.expand_dims(tf.convert_to_tensor(X), axis=0)\n",
    "        next_state = tf.expand_dims(tf.convert_to_tensor(X), axis=0)\n",
    "        \n",
    "        target = q_network.predict(state)        \n",
    "        if terminated:\n",
    "            target[0][action] = reward\n",
    "        else:\n",
    "            t = target_network.predict(next_state)\n",
    "            target[0][action] = reward + gamma * np.amax(t)\n",
    "            \n",
    "        q_network.fit(state, target, epochs=1, verbose=0)\n"
   ]
  },
  {
   "cell_type": "code",
   "execution_count": 21,
   "id": "bdfc95ea",
   "metadata": {
    "id": "bdfc95ea",
    "pycharm": {
     "is_executing": false
    }
   },
   "outputs": [],
   "source": [
    "def copy_weights(q_network, target_network):\n",
    "    target_network.set_weights(q_network.get_weights())"
   ]
  },
  {
   "cell_type": "code",
   "execution_count": null,
   "id": "e6ba1f84",
   "metadata": {
    "colab": {
     "base_uri": "https://localhost:8080/"
    },
    "id": "e6ba1f84",
    "outputId": "a7c2c0da-564b-4cb1-900a-f24a7eaee5bc",
    "pycharm": {
     "is_executing": true
    }
   },
   "outputs": [],
   "source": [
    "# TRAINING LOOP BONE STRUCTURE...\n",
    "# I WROTE FOR YOU A RANDOM AGENT (THE RANDOM AGENT WILL BE SLOWER TO GIVE CHECKMATE THAN AN OPTIMISED ONE, \n",
    "# SO DON'T GET CONCERNED BY THE TIME IT TAKES), CHANGE WITH YOURS ...\n",
    "\n",
    "# TRAINING LOOP BONE STRUCTURE...\n",
    "# I WROTE FOR YOU A RANDOM AGENT (THE RANDOM AGENT WILL BE SLOWER TO GIVE CHECKMATE THAN AN OPTIMISED ONE, \n",
    "# SO DON'T GET CONCERNED BY THE TIME IT TAKES), CHANGE WITH YOURS ...\n",
    "\n",
    "\n",
    "score = []\n",
    "number_of_moves = []\n",
    "batch_size = 3\n",
    "print_every = 5000\n",
    "n_explor = []\n",
    "n_exploit = []\n",
    "wins = 0\n",
    "draws = 0\n",
    "R_save = np.zeros([N_episodes, 1])\n",
    "\n",
    "optimizer = Adam(learning_rate=eta)\n",
    "q_network = build_model(optimizer)\n",
    "target_network = build_model(optimizer)\n",
    "copy_weights(q_network, target_network)\n",
    "\n",
    "for n in range(N_episodes):\n",
    "\n",
    "    \n",
    "    if n%print_every == 0 and n!= 0:\n",
    "        print(f\"Episodes: {n-print_every}:{n}\")\n",
    "        #print(f\"Mean Score = {mean(score[n-print_every:n])}\")\n",
    "        #print(f\"Mean number of actions = {mean(number_of_moves[n-print_every:n])}\")\n",
    "        print(f\"Mean overall = {mean(score)}\")\n",
    "        #print(f\"Exploration = {sum(n_explor[n-print_every:n])}\")\n",
    "        #print(f\"Exploitation = {sum(n_exploit[n-print_every:n])}\")\n",
    "        print(f\"wins-draws = {wins-draws}\")\n",
    "        #print(f\"epsilon = {epsilon_f}\")\n",
    "        print(f\"-----------------\")\n",
    "\n",
    "    \n",
    "    memory = []\n",
    "    epsilon_f = epsilon_0 / (1 + beta * n)   ## DECAYING EPSILON\n",
    "    Done=0                                   ## SET DONE TO ZERO (BEGINNING OF THE EPISODE)\n",
    "    i = 1                                    ## COUNTER FOR NUMBER OF ACTIONS\n",
    "    wins = 0\n",
    "    draws = 0\n",
    "    score_episode = 0\n",
    "    n_exploitation = 0\n",
    "    n_exploration = 0\n",
    "    \n",
    "    \n",
    "    S,X,allowed_a=env.Initialise_game() ## INITIALISE GAME\n",
    "\n",
    "\n",
    "    \n",
    "    while Done==0:                           ## START THE EPISODE\n",
    "        \n",
    "              \n",
    "        action, n_exploration, n_exploitation = choose_action(X, epsilon_f,allowed_a, n_exploration, n_exploitation) # chose an action\n",
    "        S_next,X_next,allowed_a_next,R,Done=env.OneStep(action) # perform an action\n",
    "        memory.append([X, action, R, X_next, Done])\n",
    "        score_episode += R\n",
    "        retrain(memory, q_network, target_network,2)\n",
    "\n",
    "        #if i%batch_size == 0:\n",
    "        \n",
    "           \n",
    "        ## THE EPISODE HAS ENDED, UPDATE...BE CAREFUL, THIS IS THE LAST STEP OF THE EPISODE\n",
    "        if Done==1:\n",
    "            R_save[n]=np.copy(R)\n",
    "\n",
    "            if R == 10:\n",
    "                wins+= 1\n",
    "            else:\n",
    "                draws +=1\n",
    "\n",
    "                       \n",
    "            # copy policy network parameters to target network\n",
    "           # for target_param, q_param in zip(target_network.parameters(), q_network.parameters()):\n",
    "           #     target_param.data.copy_(tau*q_param.data + (1.0-tau)*target_param.data)\n",
    "\n",
    "            copy_weights(q_network, target_network)\n",
    "            score.append(score_episode)\n",
    "            n_explor.append(n_exploration)\n",
    "            n_exploit.append(n_exploitation)\n",
    "            number_of_moves.append(i)\n",
    "            break\n",
    "        \n",
    "        \n",
    "        \n",
    "        \n",
    "        # IF THE EPISODE IS NOT OVER...\n",
    "        else:\n",
    "            pass\n",
    "\n",
    "                \n",
    "        # NEXT STATE AND CO. BECOME ACTUAL STATE...     \n",
    "        S=np.copy(S_next)\n",
    "        X=np.copy(X_next)\n",
    "        allowed_a=np.copy(allowed_a_next)\n",
    "        \n",
    "        i += 1  # UPDATE COUNTER FOR NUMBER OF ACTIONS\n",
    "    \n",
    "print('Random_Agent, Average reward:',np.mean(R_save),'Number of steps: ',np.mean(number_of_moves))\n",
    "        \n",
    "\n",
    "        \n",
    "        \n",
    "    \n",
    "    "
   ]
  },
  {
   "cell_type": "code",
   "execution_count": null,
   "id": "b288ad57",
   "metadata": {
    "id": "b288ad57",
    "pycharm": {
     "is_executing": true
    }
   },
   "outputs": [],
   "source": [
    ""
   ]
  }
 ],
 "metadata": {
  "kernelspec": {
   "display_name": "Python 3 (ipykernel)",
   "language": "python",
   "name": "python3"
  },
  "language_info": {
   "codemirror_mode": {
    "name": "ipython",
    "version": 3
   },
   "file_extension": ".py",
   "mimetype": "text/x-python",
   "name": "python",
   "nbconvert_exporter": "python",
   "pygments_lexer": "ipython3",
   "version": "3.9.7"
  },
  "pycharm": {
   "stem_cell": {
    "cell_type": "raw",
    "source": [],
    "metadata": {
     "collapsed": false
    }
   }
  },
  "colab": {
   "name": "Assignment (1).ipynb",
   "provenance": []
  },
  "accelerator": "GPU"
 },
 "nbformat": 4,
 "nbformat_minor": 5
}