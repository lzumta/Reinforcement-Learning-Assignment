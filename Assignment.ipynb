{
 "cells": [
  {
   "cell_type": "markdown",
   "metadata": {
    "id": "view-in-github",
    "colab_type": "text"
   },
   "source": [
    "<a href=\"https://colab.research.google.com/github/lzumta/Reinforcement-Learning-Assignment/blob/main/Assignment.ipynb\" target=\"_parent\"><img src=\"https://colab.research.google.com/assets/colab-badge.svg\" alt=\"Open In Colab\"/></a>"
   ]
  },
  {
   "cell_type": "markdown",
   "id": "02944396",
   "metadata": {
    "id": "02944396"
   },
   "source": [
    "# Assignment"
   ]
  },
  {
   "cell_type": "code",
   "execution_count": 139,
   "id": "c9652bc6",
   "metadata": {
    "pycharm": {
     "is_executing": false
    },
    "id": "c9652bc6"
   },
   "outputs": [],
   "source": [
    "# Import \n",
    "\n",
    "import torch\n",
    "import numpy as np\n",
    "import matplotlib.pyplot as plt\n",
    "import torch.nn as nn\n",
    "import torch.nn.functional as F\n",
    "from degree_freedom_queen import *\n",
    "from degree_freedom_king1 import *\n",
    "from degree_freedom_king2 import *\n",
    "from generate_game import *\n",
    "from Chess_env import *\n",
    "import time"
   ]
  },
  {
   "cell_type": "markdown",
   "id": "0bceca7c",
   "metadata": {
    "id": "0bceca7c"
   },
   "source": [
    "## The Environment\n",
    "\n",
    "You can find the environment in the file Chess_env, which contains the class Chess_env. To define an object, you need to provide the board size considered as input. In our example, size_board=4. \n",
    "Chess_env is composed by the following methods:\n",
    "\n",
    "1. Initialise_game. The method initialises an episode by placing the three pieces considered (Agent's king and queen, enemy's king) in the chess board. The outputs of the method are described below in order.\n",
    "\n",
    "     S $\\;$ A matrix representing the board locations filled with 4 numbers: 0, no piece in that position; 1, location of the \n",
    "     agent's king; 2 location of the queen; 3 location of the enemy king.\n",
    "     \n",
    "     X $\\;$ The features, that is the input to the neural network. See the assignment for more information regarding the            definition of the features adopted. To personalise this, go into the Features method of the class Chess_env() and change        accordingly.\n",
    "     \n",
    "     allowed_a $\\;$ The allowed actions that the agent can make. The agent is moving a king, with a total number of 8                possible actions, and a queen, with a total number of $(board_{size}-1)\\times 8$ actions. The total number of possible actions correspond      to the sum of the two, but not all actions are allowed in a given position (movements to locations outside the borders or      against chess rules). Thus, the variable allowed_a is a vector that is one (zero) for an action that the agent can (can't)      make. Be careful, apply the policy considered on the actions that are allowed only.\n",
    "     \n",
    "\n",
    "2. OneStep. The method performs a one step update of the system. Given as input the action selected by the agent, it updates the chess board by performing that action and the response of the enemy king (which is a random allowed action in the settings considered). The first three outputs are the same as for the Initialise_game method, but the variables are computed for the position reached after the update of the system. The fourth and fifth outputs are:\n",
    "\n",
    "     R $\\;$ The reward. To change this, look at the OneStep method of the class where the rewards are set.\n",
    "     \n",
    "     Done $\\;$ A variable that is 1 if the episode has ended (checkmate or draw).\n",
    "     \n",
    "     \n",
    "3. Features. Given the chessboard position, the method computes the features.\n",
    "\n",
    "This information and a quick analysis of the class should be all you need to get going. The other functions that the class exploits are uncommented and constitute an example on how not to write a python code. You can take a look at them if you want, but it is not necessary.\n",
    "\n",
    "\n",
    "\n",
    "\n"
   ]
  },
  {
   "cell_type": "code",
   "execution_count": 140,
   "id": "9593a299",
   "metadata": {
    "pycharm": {
     "is_executing": false
    },
    "id": "9593a299"
   },
   "outputs": [],
   "source": [
    "## INITIALISE THE ENVIRONMENT\n",
    "size_board = 4\n",
    "env=Chess_Env(size_board)"
   ]
  },
  {
   "cell_type": "code",
   "execution_count": 141,
   "id": "bbc05bfd",
   "metadata": {
    "pycharm": {
     "is_executing": false
    },
    "id": "bbc05bfd",
    "colab": {
     "base_uri": "https://localhost:8080/"
    },
    "outputId": "1faca481-55fc-4f3b-88d7-1b5e2d99b691"
   },
   "outputs": [
    {
     "name": "stdout",
     "text": [
      "[[0 0 0 0]\n [0 1 0 3]\n [0 0 0 0]\n [0 0 2 0]]\ncheck?  0\ndofk2  1\n\n[[0 0 2 0]\n [0 1 0 0]\n [0 0 0 3]\n [0 0 0 0]]\n0  0\n-----------------\n[0. 0. 0. 0. 0. 1. 0. 0. 0. 0. 0. 0. 0. 0. 0. 0. 0. 0. 1. 0. 0. 0. 0. 0.\n 0. 0. 0. 0. 0. 0. 0. 0. 0. 0. 0. 0. 0. 0. 0. 0. 0. 0. 0. 1. 0. 0. 0. 0.\n 1. 0. 0. 1. 0. 0. 0. 0. 0. 0.]\ncheck?  0\ndofk2  1\n\n[[0 0 0 0]\n [0 1 2 0]\n [0 0 0 0]\n [0 0 0 3]]\n0  0\n-----------------\n[0. 0. 0. 0. 0. 1. 0. 0. 0. 0. 0. 0. 0. 0. 0. 0. 0. 0. 0. 0. 0. 0. 1. 0.\n 0. 0. 0. 0. 0. 0. 0. 0. 0. 0. 0. 0. 0. 0. 0. 0. 0. 0. 0. 0. 0. 0. 0. 1.\n 1. 0. 1. 0. 0. 0. 0. 0. 0. 0.]\ncheck?  0\ndofk2  0\n\n[[0 0 2 0]\n [0 1 0 0]\n [0 0 0 3]\n [0 0 0 0]]\n0  0\n-----------------\n[0. 0. 0. 0. 0. 1. 0. 0. 0. 0. 0. 0. 0. 0. 0. 0. 0. 0. 1. 0. 0. 0. 0. 0.\n 0. 0. 0. 0. 0. 0. 0. 0. 0. 0. 0. 0. 0. 0. 0. 0. 0. 0. 0. 1. 0. 0. 0. 0.\n 1. 0. 0. 1. 0. 0. 0. 0. 0. 0.]\ncheck?  0\ndofk2  1\n\n[[0 0 2 0]\n [1 0 0 0]\n [0 0 0 0]\n [0 0 0 3]]\n0  0\n-----------------\n[0. 0. 0. 0. 1. 0. 0. 0. 0. 0. 0. 0. 0. 0. 0. 0. 0. 0. 1. 0. 0. 0. 0. 0.\n 0. 0. 0. 0. 0. 0. 0. 0. 0. 0. 0. 0. 0. 0. 0. 0. 0. 0. 0. 0. 0. 0. 0. 1.\n 1. 0. 0. 1. 0. 0. 0. 0. 0. 0.]\ncheck?  0\ndofk2  1\n\n[[0 0 0 2]\n [1 0 0 0]\n [0 0 3 0]\n [0 0 0 0]]\n0  0\n-----------------\n[0. 0. 0. 0. 1. 0. 0. 0. 0. 0. 0. 0. 0. 0. 0. 0. 0. 0. 0. 1. 0. 0. 0. 0.\n 0. 0. 0. 0. 0. 0. 0. 0. 0. 0. 0. 0. 0. 0. 0. 0. 0. 0. 1. 0. 0. 0. 0. 0.\n 1. 0. 0. 0. 1. 0. 0. 0. 0. 0.]\ncheck?  0\ndofk2  2\n"
     ],
     "output_type": "stream"
    }
   ],
   "source": [
    "## PRINT 5 STEPS OF AN EPISODE CONSIDERING A RANDOM AGENT\n",
    "\n",
    "S,X,allowed_a=env.Initialise_game()                       # INTIALISE GAME\n",
    "\n",
    "print(S)                                                  # PRINT CHESS BOARD (SEE THE DESCRIPTION ABOVE)\n",
    "print('check? ',env.check)                                # PRINT VARIABLE THAT TELLS IF ENEMY KING IS IN CHECK (1) OR NOT (0)\n",
    "print('dofk2 ',np.sum(env.dfk2_constrain).astype(int))    # PRINT THE NUMBER OF LOCATIONS THAT THE ENEMY KING CAN MOVE TO\n",
    "\n",
    "\n",
    "for i in range(5):\n",
    "    \n",
    "    a,_=np.where(allowed_a==1)                  # FIND WHAT THE ALLOWED ACTIONS ARE\n",
    "    #np.random.seed(42)\n",
    "    a_agent=np.random.permutation(a)[0]         # MAKE A RANDOM ACTION\n",
    "\n",
    "    S,X,allowed_a,R,Done=env.OneStep(a_agent)   # UPDATE THE ENVIRONMENT\n",
    "    \n",
    "    \n",
    "    ## PRINT CHESS BOARD AND VARIABLES\n",
    "    print('')\n",
    "    print(S)\n",
    "    print(R,'', Done)\n",
    "    print('-----------------')\n",
    "    print(X)\n",
    "    print('check? ',env.check)\n",
    "    print('dofk2 ',np.sum(env.dfk2_constrain).astype(int))\n",
    "    \n",
    "    \n",
    "    # TERMINATE THE EPISODE IF Done=True (DRAW OR CHECKMATE)\n",
    "    if Done:\n",
    "        break\n",
    "        \n"
   ]
  },
  {
   "cell_type": "code",
   "execution_count": 142,
   "id": "fc16cf7b",
   "metadata": {
    "pycharm": {
     "is_executing": false
    },
    "id": "fc16cf7b",
    "colab": {
     "base_uri": "https://localhost:8080/"
    },
    "outputId": "124fa55b-e0b9-47f3-eac0-b1f124d89c6f"
   },
   "outputs": [
    {
     "name": "stdout",
     "text": [
      "Average reward: 0.206 Number of steps:  7.29\n",
      "Random_Agent, Average reward: 0.186 Number of steps:  7.151\n"
     ],
     "output_type": "stream"
    }
   ],
   "source": [
    "# PERFORM N_episodes=1000 EPISODES MAKING RANDOM ACTIONS AND COMPUTE THE AVERAGE REWARD AND NUMBER OF MOVES \n",
    "np.random.seed(42)\n",
    "S,X,allowed_a=env.Initialise_game()\n",
    "N_episodes=1000\n",
    "\n",
    "# VARIABLES WHERE TO SAVE THE FINAL REWARD IN AN EPISODE AND THE NUMBER OF MOVES \n",
    "R_save_random = np.zeros([N_episodes, 1])\n",
    "N_moves_save_random = np.zeros([N_episodes, 1])\n",
    "\n",
    "for n in range(N_episodes):\n",
    "\n",
    "    if n % 500 == 0 and n != 0:\n",
    "      print('Average reward:',np.mean(R_save_random[n-500:n]),'Number of steps: ',np.mean(N_moves_save_random[n-500:n]))\n",
    "    \n",
    "    S,X,allowed_a=env.Initialise_game()     # INITIALISE GAME\n",
    "    Done=0                                  # SET Done=0 AT THE BEGINNING\n",
    "    i=1                                     # COUNTER FOR THE NUMBER OF ACTIONS (MOVES) IN AN EPISODE\n",
    "\n",
    "    \n",
    "    # UNTIL THE EPISODE IS NOT OVER...(Done=0)\n",
    "    while Done==0:\n",
    "        \n",
    "        # SAME AS THE CELL BEFORE, BUT SAVING THE RESULTS WHEN THE EPISODE TERMINATES \n",
    "        \n",
    "        a,_=np.where(allowed_a==1)\n",
    "        a_agent=np.random.permutation(a)[0]\n",
    "\n",
    "        S,X,allowed_a,R,Done=env.OneStep(a_agent)\n",
    "        \n",
    "        \n",
    "        if Done:\n",
    "            R_save_random[n]=np.copy(R)\n",
    "            N_moves_save_random[n]=np.copy(i)\n",
    "            break\n",
    "\n",
    "        i=i+1                               # UPDATE THE COUNTER\n",
    "\n",
    "\n",
    "\n",
    "# AS YOU SEE, THE PERFORMANCE OF A RANDOM AGENT ARE NOT GREAT, SINCE THE MAJORITY OF THE POSITIONS END WITH A DRAW \n",
    "# (THE ENEMY KING IS NOT IN CHECK AND CAN'T MOVE)\n",
    "\n",
    "print('Random_Agent, Average reward:',np.mean(R_save_random),'Number of steps: ',np.mean(N_moves_save_random))\n"
   ]
  },
  {
   "cell_type": "code",
   "source": [
    "# moving average\n",
    "def moving_average(a, n):\n",
    "    \"\"\" A function to compute moving averages\"\"\"\n",
    "    ret = np.cumsum(a, dtype=float)\n",
    "    ret[n:] = ret[n:] - ret[:-n]\n",
    "    return ret[n - 1:] / n\n",
    "#print(moving_average(R_save, n=500))"
   ],
   "metadata": {
    "id": "S2c9WlZtlKqA",
    "pycharm": {
     "is_executing": false
    }
   },
   "id": "S2c9WlZtlKqA",
   "execution_count": 143,
   "outputs": []
  },
  {
   "cell_type": "code",
   "source": [
    "plt.rcParams.update({'font.size': 20})\n",
    "\n",
    "fig, axs = plt.subplots(2,figsize=(15,10))\n",
    "\n",
    "axs[0].plot(np.arange(0,N_episodes), R_save_random, 'b')\n",
    "axs[1].plot(np.arange(0,N_episodes-1999), moving_average(R_save_random, n=2000), 'r')\n",
    "axs[0].set_title(\"Reward per game\")\n",
    "axs[1].set_title(\"Exponential moving average\")\n",
    "plt.xticks([])"
   ],
   "metadata": {
    "id": "OCluRLg7hjHY",
    "pycharm": {
     "is_executing": false
    }
   },
   "id": "OCluRLg7hjHY",
   "execution_count": 144,
   "outputs": [
    {
     "data": {
      "text/plain": "([], [])"
     },
     "metadata": {},
     "output_type": "execute_result",
     "execution_count": 144
    },
    {
     "data": {
      "text/plain": "<Figure size 1080x720 with 2 Axes>",
      "image/png": "[encoded data removed]"
     },
     "metadata": {
      "needs_background": "light"
     },
     "output_type": "display_data"
    }
   ]
  },
  {
   "cell_type": "code",
   "source": [
    "plt.rcParams.update({'font.size': 20})\n",
    "plt.rcParams[\"figure.figsize\"] = (10,7.5)\n",
    "\n",
    "plt.plot(np.arange(0,N_episodes),N_moves_save_random,'g')\n",
    "plt.legend('Number of moves')\n",
    "plt.xlabel('Number of episodes')\n",
    "plt.ylabel('Number of moves')"
   ],
   "metadata": {
    "id": "nXKI3cwHitLz",
    "pycharm": {
     "is_executing": false
    }
   },
   "id": "nXKI3cwHitLz",
   "execution_count": 145,
   "outputs": [
    {
     "data": {
      "text/plain": "Text(0, 0.5, 'Number of moves')"
     },
     "metadata": {},
     "output_type": "execute_result",
     "execution_count": 145
    },
    {
     "data": {
      "text/plain": "<Figure size 720x540 with 1 Axes>",
      "image/png": "[encoded data removed]"
     },
     "metadata": {
      "needs_background": "light"
     },
     "output_type": "display_data"
    }
   ]
  },
  {
   "cell_type": "code",
   "execution_count": 146,
   "id": "ece20429",
   "metadata": {
    "pycharm": {
     "is_executing": false
    },
    "id": "ece20429"
   },
   "outputs": [],
   "source": [
    "# INITIALISE THE PARAMETERS OF YOUR NEURAL NETWORK\n",
    "\n",
    "S,X,allowed_a=env.Initialise_game()\n",
    "N_a=np.shape(allowed_a)[0]   # TOTAL NUMBER OF POSSIBLE ACTIONS\n",
    "N_in=np.shape(X)[0]    ## INPUT SIZE\n",
    "N_h=200                ## NUMBER OF HIDDEN NODES\n",
    "\n",
    "\n",
    "\n",
    "## INITALISE THE NEURAL NETWORK...\n",
    "class Neural_Netork(nn.Module):\n",
    "    def __init__(self):\n",
    "        super(Neural_Netork, self).__init__()\n",
    "        self.fc1 = nn.Linear(N_in, N_h)\n",
    "        self.out = nn.Linear(N_h, N_a)\n",
    "\n",
    "    def forward(self,x):\n",
    "        x = self.fc1(x)\n",
    "        x = F.relu(x)\n",
    "        action = self.out(x)\n",
    "        return action\n"
   ]
  },
  {
   "cell_type": "code",
   "source": [
    "class ChessAgent():\n",
    "    def __init__(self):\n",
    "        super(ChessAgent, self).__init__()\n",
    "        self.policy_net = Neural_Netork()\n",
    "        self.target_net = Neural_Netork()\n",
    "\n",
    "        self.learn_step_counter = 0\n",
    "        self.memory_counter = 0\n",
    "        self.memory_q = np.zeros((memory_size, N_in * 2 + 2))\n",
    "        self.memory_sarsa = np.zeros((memory_size, N_in * 2 + 4))\n",
    "        \n",
    "        self.optimizer = torch.optim.SGD(self.policy_net.parameters(), lr=eta)\n",
    "        self.loss_function = nn.MSELoss()\n",
    "\n",
    "    def choose_action(self, state, allowed_a, epsilon_f):\n",
    "        state = torch.unsqueeze(torch.FloatTensor(state), 0) # get a 1D array\n",
    "        a,_=np.where(allowed_a==1) # get indexes of allowed actions\n",
    "        if np.random.random() > epsilon_f: # greedy policy\n",
    "            # Exploitation\n",
    "            action_value = self.policy_net.forward(state)\n",
    "            actions = torch.detach(action_value).numpy()\n",
    "            actions = [actions[0][i] for i in a]\n",
    "            action = np.argmax(actions)\n",
    "            action = a[action]\n",
    "        else: # random policy\n",
    "            # Exploration\n",
    "            action = np.random.permutation(a)[0]\n",
    "        return action\n",
    "\n",
    "\n",
    "    def store_transition_q(self, state, action, reward, next_state):\n",
    "        transition = np.hstack((state, [action, reward], next_state))\n",
    "        index = self.memory_counter % memory_size\n",
    "        self.memory_q[index, :] = transition\n",
    "        self.memory_counter += 1\n",
    "\n",
    "    def store_transition_sarsa(self, state, action1, action2, reward, next_state, done):\n",
    "        transition = np.hstack((state, [action1, action2, reward, done], next_state))\n",
    "        index = self.memory_counter % memory_size\n",
    "        self.memory_sarsa[index, :] = transition\n",
    "        self.memory_counter += 1\n",
    "\n",
    "    def train_q(self):\n",
    "\n",
    "        #update the parameters\n",
    "        if self.learn_step_counter % 100 ==0:\n",
    "            self.target_net.load_state_dict(self.policy_net.state_dict())\n",
    "        self.learn_step_counter+=1\n",
    "\n",
    "        #sample batch from memory\n",
    "        sample_index = np.random.choice(memory_size, 32)\n",
    "        batch_memory = self.memory_q[sample_index, :]\n",
    "        batch_state = torch.FloatTensor(batch_memory[:, :N_in])\n",
    "        batch_action = torch.LongTensor(batch_memory[:, N_in:N_in+1].astype(int))\n",
    "        batch_reward = torch.FloatTensor(batch_memory[:, N_in+1:N_in+2])\n",
    "        batch_next_state = torch.FloatTensor(batch_memory[:,-N_in:])\n",
    "\n",
    "        #q_eval\n",
    "        q_eval = self.policy_net(batch_state).gather(1, batch_action)\n",
    "        q_next = self.target_net(batch_next_state).detach()\n",
    "        q_target = batch_reward + gamma * q_next.max(1)[0].view(32, 1)\n",
    "        loss = self.loss_function(q_eval, q_target)\n",
    "\n",
    "        self.optimizer.zero_grad()\n",
    "        loss.backward()\n",
    "        self.optimizer.step()\n",
    "\n",
    "\n",
    "    def train_sarsa(self):\n",
    "        #update the parameters\n",
    "        if self.learn_step_counter % 100 ==0:\n",
    "            self.target_net.load_state_dict(self.policy_net.state_dict())\n",
    "        self.learn_step_counter+=1\n",
    "\n",
    "        #sample batch from memory\n",
    "        sample_index = np.random.choice(memory_size, 32)\n",
    "        batch_memory = self.memory_sarsa[sample_index, :]\n",
    "        batch_state = torch.FloatTensor(batch_memory[:, :N_in])\n",
    "        batch_action1 = torch.LongTensor(batch_memory[:, N_in:N_in+1].astype(int))\n",
    "        batch_action2 = torch.LongTensor(batch_memory[:, N_in+1:N_in+2].astype(int))\n",
    "        batch_reward = torch.FloatTensor(batch_memory[:, N_in+2:N_in+3])\n",
    "        batch_done = torch.FloatTensor(batch_memory[:, N_in+3:N_in+4])\n",
    "        batch_next_state = torch.FloatTensor(batch_memory[:,-N_in:])\n",
    "\n",
    "        #q_eval\n",
    "        q_eval = self.policy_net(batch_state).gather(1, batch_action1)          \n",
    "        q_next = self.target_net(batch_next_state).gather(1, batch_action2)\n",
    "        q_target = batch_reward + gamma * q_next\n",
    "        loss = self.loss_function(q_eval, q_target)\n",
    "\n",
    "        self.optimizer.zero_grad()\n",
    "        loss.backward()\n",
    "        self.optimizer.step()"
   ],
   "metadata": {
    "id": "ZDdj5p37FgKV",
    "pycharm": {
     "is_executing": false
    }
   },
   "id": "ZDdj5p37FgKV",
   "execution_count": 147,
   "outputs": []
  },
  {
   "cell_type": "markdown",
   "source": [
    "# Deep Q_Learning Implementation"
   ],
   "metadata": {
    "collapsed": false
   }
  },
  {
   "cell_type": "code",
   "execution_count": 148,
   "outputs": [],
   "source": [
    "# HYPERPARAMETERS USED FOR Q_LEARNING (FOR A GRID SIZE OF 4)\n",
    "\n",
    "epsilon_0 = 0.6    # STARTING VALUE OF EPSILON FOR THE EPSILON-GREEDY POLICY\n",
    "beta = 0.00005      # THE PARAMETER SETS HOW QUICKLY THE VALUE OF EPSILON IS DECAYING (SEE epsilon_f BELOW)\n",
    "gamma = 0.85        # THE DISCOUNT FACTOR\n",
    "eta = 0.01        # THE LEARNING RATE\n",
    "N_episodes = 100000 # THE NUMBER OF GAMES TO BE PLAYED \n",
    "memory_size = 2000 # THE SIZE OF THE MEMORY\n",
    "reward_draw = 0  # THE REWARD FOR A DRAW, YOU CAN CHANGE THIS TO REPRODUCE OUR RESULTS TO -1\n",
    "reward_check = 1 # THE REWARD FOR A CHECK\n",
    "\n",
    "# SAVING VARIABLES\n",
    "R_save_q = np.zeros([N_episodes, 1])\n",
    "N_moves_save_q = np.zeros([N_episodes, 1])\n",
    "Training_time_per_episode = np.zeros([N_episodes, 1])\n",
    "\n",
    "# PRINT AVERAGE REWARD EVERY NUMBER OF EPISODES\n",
    "print_every = 500"
   ],
   "metadata": {
    "collapsed": false,
    "pycharm": {
     "name": "#%%\n",
     "is_executing": false
    }
   }
  },
  {
   "cell_type": "code",
   "execution_count": 149,
   "id": "e6ba1f84",
   "metadata": {
    "pycharm": {
     "name": "#%%\n",
     "is_executing": false
    },
    "id": "e6ba1f84",
    "colab": {
     "base_uri": "https://localhost:8080/"
    },
    "outputId": "48f80e57-3834-46ae-9279-ab8b48364624"
   },
   "outputs": [
    {
     "name": "stdout",
     "text": [
      "Average rewards for every 500 episodes:\n---------------------------------------\n",
      "Average reward: 0.194 Number of steps:  8.576 Training time:  4.470257043838501e-05\n"
     ],
     "output_type": "stream"
    },
    {
     "traceback": [
      "\u001b[1;31m---------------------------------------------------------------------------\u001b[0m",
      "\u001b[1;31mKeyboardInterrupt\u001b[0m                         Traceback (most recent call last)",
      "\u001b[1;32m~\\AppData\\Local\\Temp/ipykernel_4600/903482429.py\u001b[0m in \u001b[0;36m<module>\u001b[1;34m\u001b[0m\n\u001b[0;32m     13\u001b[0m     \u001b[0mi\u001b[0m \u001b[1;33m=\u001b[0m \u001b[1;36m1\u001b[0m                                    \u001b[1;31m## COUNTER FOR NUMBER OF ACTIONS\u001b[0m\u001b[1;33m\u001b[0m\u001b[1;33m\u001b[0m\u001b[0m\n\u001b[0;32m     14\u001b[0m \u001b[1;33m\u001b[0m\u001b[0m\n\u001b[1;32m---> 15\u001b[1;33m     \u001b[0mS\u001b[0m\u001b[1;33m,\u001b[0m\u001b[0mX\u001b[0m\u001b[1;33m,\u001b[0m\u001b[0mallowed_a\u001b[0m\u001b[1;33m=\u001b[0m\u001b[0menv\u001b[0m\u001b[1;33m.\u001b[0m\u001b[0mInitialise_game\u001b[0m\u001b[1;33m(\u001b[0m\u001b[0mreward_draw\u001b[0m\u001b[1;33m=\u001b[0m\u001b[0mreward_draw\u001b[0m\u001b[1;33m,\u001b[0m \u001b[0mreward_check\u001b[0m\u001b[1;33m=\u001b[0m\u001b[0mreward_check\u001b[0m\u001b[1;33m)\u001b[0m      \u001b[1;31m## INITIALISE GAME\u001b[0m\u001b[1;33m\u001b[0m\u001b[1;33m\u001b[0m\u001b[0m\n\u001b[0m\u001b[0;32m     16\u001b[0m \u001b[1;33m\u001b[0m\u001b[0m\n\u001b[0;32m     17\u001b[0m     \u001b[0mep_reward\u001b[0m \u001b[1;33m=\u001b[0m \u001b[1;36m0\u001b[0m\u001b[1;33m\u001b[0m\u001b[1;33m\u001b[0m\u001b[0m\n",
      "\u001b[1;32m~\\OneDrive\\Dokumente\\school\\UZH\\Master\\8. Semester\\Reinforcement_Learning\\Assignment\\Reinforcement-Learning-Assignment\\Reinforcement-Learning-Assignment\\Chess_env.py\u001b[0m in \u001b[0;36mInitialise_game\u001b[1;34m(self, reward_draw, reward_check)\u001b[0m\n\u001b[0;32m     58\u001b[0m \u001b[1;33m\u001b[0m\u001b[0m\n\u001b[0;32m     59\u001b[0m         \u001b[1;31m# START THE GAME BY SETTING PIECIES\u001b[0m\u001b[1;33m\u001b[0m\u001b[1;33m\u001b[0m\u001b[0m\n\u001b[1;32m---> 60\u001b[1;33m \u001b[1;33m\u001b[0m\u001b[0m\n\u001b[0m\u001b[0;32m     61\u001b[0m         \u001b[0mself\u001b[0m\u001b[1;33m.\u001b[0m\u001b[0mBoard\u001b[0m\u001b[1;33m,\u001b[0m\u001b[0mself\u001b[0m\u001b[1;33m.\u001b[0m\u001b[0mp_k2\u001b[0m\u001b[1;33m,\u001b[0m\u001b[0mself\u001b[0m\u001b[1;33m.\u001b[0m\u001b[0mp_k1\u001b[0m\u001b[1;33m,\u001b[0m\u001b[0mself\u001b[0m\u001b[1;33m.\u001b[0m\u001b[0mp_q1\u001b[0m\u001b[1;33m=\u001b[0m\u001b[0mgenerate_game\u001b[0m\u001b[1;33m(\u001b[0m\u001b[0mself\u001b[0m\u001b[1;33m.\u001b[0m\u001b[0mN_grid\u001b[0m\u001b[1;33m)\u001b[0m\u001b[1;33m\u001b[0m\u001b[1;33m\u001b[0m\u001b[0m\n\u001b[0;32m     62\u001b[0m \u001b[1;33m\u001b[0m\u001b[0m\n",
      "\u001b[1;32m~\\OneDrive\\Dokumente\\school\\UZH\\Master\\8. Semester\\Reinforcement_Learning\\Assignment\\Reinforcement-Learning-Assignment\\Reinforcement-Learning-Assignment\\generate_game.py\u001b[0m in \u001b[0;36mgenerate_game\u001b[1;34m(size_board)\u001b[0m\n\u001b[0;32m     41\u001b[0m         \u001b[0mc1\u001b[0m \u001b[1;33m=\u001b[0m \u001b[0mnp\u001b[0m\u001b[1;33m.\u001b[0m\u001b[0mwhere\u001b[0m\u001b[1;33m(\u001b[0m\u001b[0mdfK1\u001b[0m\u001b[1;33m.\u001b[0m\u001b[0mreshape\u001b[0m\u001b[1;33m(\u001b[0m\u001b[1;33m[\u001b[0m\u001b[1;33m-\u001b[0m\u001b[1;36m1\u001b[0m\u001b[1;33m]\u001b[0m\u001b[1;33m)\u001b[0m \u001b[1;33m==\u001b[0m \u001b[1;36m0\u001b[0m\u001b[1;33m)\u001b[0m\u001b[1;33m[\u001b[0m\u001b[1;36m0\u001b[0m\u001b[1;33m]\u001b[0m\u001b[1;33m\u001b[0m\u001b[1;33m\u001b[0m\u001b[0m\n\u001b[0;32m     42\u001b[0m         \u001b[0mc2\u001b[0m \u001b[1;33m=\u001b[0m \u001b[0mnp\u001b[0m\u001b[1;33m.\u001b[0m\u001b[0mwhere\u001b[0m\u001b[1;33m(\u001b[0m\u001b[0mdfQ1\u001b[0m\u001b[1;33m.\u001b[0m\u001b[0mreshape\u001b[0m\u001b[1;33m(\u001b[0m\u001b[1;33m[\u001b[0m\u001b[1;33m-\u001b[0m\u001b[1;36m1\u001b[0m\u001b[1;33m]\u001b[0m\u001b[1;33m)\u001b[0m \u001b[1;33m==\u001b[0m \u001b[1;36m0\u001b[0m\u001b[1;33m)\u001b[0m\u001b[1;33m[\u001b[0m\u001b[1;36m0\u001b[0m\u001b[1;33m]\u001b[0m\u001b[1;33m\u001b[0m\u001b[1;33m\u001b[0m\u001b[0m\n\u001b[1;32m---> 43\u001b[1;33m         \u001b[0mc\u001b[0m \u001b[1;33m=\u001b[0m \u001b[0mnp\u001b[0m\u001b[1;33m.\u001b[0m\u001b[0mintersect1d\u001b[0m\u001b[1;33m(\u001b[0m\u001b[0mc1\u001b[0m\u001b[1;33m,\u001b[0m \u001b[0mc2\u001b[0m\u001b[1;33m)\u001b[0m\u001b[1;33m\u001b[0m\u001b[1;33m\u001b[0m\u001b[0m\n\u001b[0m\u001b[0;32m     44\u001b[0m \u001b[1;33m\u001b[0m\u001b[0m\n\u001b[0;32m     45\u001b[0m         \u001b[1;32mif\u001b[0m \u001b[0mc\u001b[0m\u001b[1;33m.\u001b[0m\u001b[0mshape\u001b[0m\u001b[1;33m[\u001b[0m\u001b[1;36m0\u001b[0m\u001b[1;33m]\u001b[0m \u001b[1;33m!=\u001b[0m \u001b[1;36m0\u001b[0m\u001b[1;33m:\u001b[0m\u001b[1;33m\u001b[0m\u001b[1;33m\u001b[0m\u001b[0m\n",
      "\u001b[1;32m<__array_function__ internals>\u001b[0m in \u001b[0;36mintersect1d\u001b[1;34m(*args, **kwargs)\u001b[0m\n",
      "\u001b[1;32m~\\Python39\\lib\\site-packages\\numpy\\lib\\arraysetops.py\u001b[0m in \u001b[0;36mintersect1d\u001b[1;34m(ar1, ar2, assume_unique, return_indices)\u001b[0m\n\u001b[0;32m    438\u001b[0m             \u001b[0mar2\u001b[0m\u001b[1;33m,\u001b[0m \u001b[0mind2\u001b[0m \u001b[1;33m=\u001b[0m \u001b[0munique\u001b[0m\u001b[1;33m(\u001b[0m\u001b[0mar2\u001b[0m\u001b[1;33m,\u001b[0m \u001b[0mreturn_index\u001b[0m\u001b[1;33m=\u001b[0m\u001b[1;32mTrue\u001b[0m\u001b[1;33m)\u001b[0m\u001b[1;33m\u001b[0m\u001b[1;33m\u001b[0m\u001b[0m\n\u001b[0;32m    439\u001b[0m         \u001b[1;32melse\u001b[0m\u001b[1;33m:\u001b[0m\u001b[1;33m\u001b[0m\u001b[1;33m\u001b[0m\u001b[0m\n\u001b[1;32m--> 440\u001b[1;33m             \u001b[0mar1\u001b[0m \u001b[1;33m=\u001b[0m \u001b[0munique\u001b[0m\u001b[1;33m(\u001b[0m\u001b[0mar1\u001b[0m\u001b[1;33m)\u001b[0m\u001b[1;33m\u001b[0m\u001b[1;33m\u001b[0m\u001b[0m\n\u001b[0m\u001b[0;32m    441\u001b[0m             \u001b[0mar2\u001b[0m \u001b[1;33m=\u001b[0m \u001b[0munique\u001b[0m\u001b[1;33m(\u001b[0m\u001b[0mar2\u001b[0m\u001b[1;33m)\u001b[0m\u001b[1;33m\u001b[0m\u001b[1;33m\u001b[0m\u001b[0m\n\u001b[0;32m    442\u001b[0m     \u001b[1;32melse\u001b[0m\u001b[1;33m:\u001b[0m\u001b[1;33m\u001b[0m\u001b[1;33m\u001b[0m\u001b[0m\n",
      "\u001b[1;32m<__array_function__ internals>\u001b[0m in \u001b[0;36munique\u001b[1;34m(*args, **kwargs)\u001b[0m\n",
      "\u001b[1;32m~\\Python39\\lib\\site-packages\\numpy\\lib\\arraysetops.py\u001b[0m in \u001b[0;36munique\u001b[1;34m(ar, return_index, return_inverse, return_counts, axis)\u001b[0m\n\u001b[0;32m    270\u001b[0m     \u001b[0mar\u001b[0m \u001b[1;33m=\u001b[0m \u001b[0mnp\u001b[0m\u001b[1;33m.\u001b[0m\u001b[0masanyarray\u001b[0m\u001b[1;33m(\u001b[0m\u001b[0mar\u001b[0m\u001b[1;33m)\u001b[0m\u001b[1;33m\u001b[0m\u001b[1;33m\u001b[0m\u001b[0m\n\u001b[0;32m    271\u001b[0m     \u001b[1;32mif\u001b[0m \u001b[0maxis\u001b[0m \u001b[1;32mis\u001b[0m \u001b[1;32mNone\u001b[0m\u001b[1;33m:\u001b[0m\u001b[1;33m\u001b[0m\u001b[1;33m\u001b[0m\u001b[0m\n\u001b[1;32m--> 272\u001b[1;33m         \u001b[0mret\u001b[0m \u001b[1;33m=\u001b[0m \u001b[0m_unique1d\u001b[0m\u001b[1;33m(\u001b[0m\u001b[0mar\u001b[0m\u001b[1;33m,\u001b[0m \u001b[0mreturn_index\u001b[0m\u001b[1;33m,\u001b[0m \u001b[0mreturn_inverse\u001b[0m\u001b[1;33m,\u001b[0m \u001b[0mreturn_counts\u001b[0m\u001b[1;33m)\u001b[0m\u001b[1;33m\u001b[0m\u001b[1;33m\u001b[0m\u001b[0m\n\u001b[0m\u001b[0;32m    273\u001b[0m         \u001b[1;32mreturn\u001b[0m \u001b[0m_unpack_tuple\u001b[0m\u001b[1;33m(\u001b[0m\u001b[0mret\u001b[0m\u001b[1;33m)\u001b[0m\u001b[1;33m\u001b[0m\u001b[1;33m\u001b[0m\u001b[0m\n\u001b[0;32m    274\u001b[0m \u001b[1;33m\u001b[0m\u001b[0m\n",
      "\u001b[1;32m~\\Python39\\lib\\site-packages\\numpy\\lib\\arraysetops.py\u001b[0m in \u001b[0;36m_unique1d\u001b[1;34m(ar, return_index, return_inverse, return_counts)\u001b[0m\n\u001b[0;32m    331\u001b[0m         \u001b[0maux\u001b[0m \u001b[1;33m=\u001b[0m \u001b[0mar\u001b[0m\u001b[1;33m[\u001b[0m\u001b[0mperm\u001b[0m\u001b[1;33m]\u001b[0m\u001b[1;33m\u001b[0m\u001b[1;33m\u001b[0m\u001b[0m\n\u001b[0;32m    332\u001b[0m     \u001b[1;32melse\u001b[0m\u001b[1;33m:\u001b[0m\u001b[1;33m\u001b[0m\u001b[1;33m\u001b[0m\u001b[0m\n\u001b[1;32m--> 333\u001b[1;33m         \u001b[0mar\u001b[0m\u001b[1;33m.\u001b[0m\u001b[0msort\u001b[0m\u001b[1;33m(\u001b[0m\u001b[1;33m)\u001b[0m\u001b[1;33m\u001b[0m\u001b[1;33m\u001b[0m\u001b[0m\n\u001b[0m\u001b[0;32m    334\u001b[0m         \u001b[0maux\u001b[0m \u001b[1;33m=\u001b[0m \u001b[0mar\u001b[0m\u001b[1;33m\u001b[0m\u001b[1;33m\u001b[0m\u001b[0m\n\u001b[0;32m    335\u001b[0m     \u001b[0mmask\u001b[0m \u001b[1;33m=\u001b[0m \u001b[0mnp\u001b[0m\u001b[1;33m.\u001b[0m\u001b[0mempty\u001b[0m\u001b[1;33m(\u001b[0m\u001b[0maux\u001b[0m\u001b[1;33m.\u001b[0m\u001b[0mshape\u001b[0m\u001b[1;33m,\u001b[0m \u001b[0mdtype\u001b[0m\u001b[1;33m=\u001b[0m\u001b[0mnp\u001b[0m\u001b[1;33m.\u001b[0m\u001b[0mbool_\u001b[0m\u001b[1;33m)\u001b[0m\u001b[1;33m\u001b[0m\u001b[1;33m\u001b[0m\u001b[0m\n",
      "\u001b[1;31mKeyboardInterrupt\u001b[0m: "
     ],
     "ename": "KeyboardInterrupt",
     "evalue": "",
     "output_type": "error"
    }
   ],
   "source": [
    "agent = ChessAgent()\n",
    "\n",
    "print(f\"Average rewards for every {print_every} episodes:\")\n",
    "print('---------------------------------------')\n",
    "for n in range(N_episodes):\n",
    "\n",
    "    if n % print_every == 0 and n != 0:\n",
    "      print('Average reward:',np.mean(R_save_q[n-print_every:n]),'Number of steps: ',np.mean(N_moves_save_q[n-print_every:n]), 'Training time: ',np.mean(Training_time_per_episode[n-500:n]))\n",
    "\n",
    "    start = time.time()\n",
    "    epsilon_f = epsilon_0 / (1 + beta * n)   ## DECAYING EPSILON\n",
    "    Done=0                                   ## SET DONE TO ZERO (BEGINNING OF THE EPISODE)\n",
    "    i = 1                                    ## COUNTER FOR NUMBER OF ACTIONS\n",
    "    \n",
    "    S,X,allowed_a=env.Initialise_game(reward_draw=reward_draw, reward_check=reward_check)      ## INITIALISE GAME\n",
    "\n",
    "    ep_reward = 0\n",
    "    \n",
    "    while Done==0:                           ## START THE EPISODE\n",
    "        \n",
    "    \n",
    "        action = agent.choose_action(X, allowed_a, epsilon_f)\n",
    "\n",
    "        S_next,X_next,allowed_a_next,R,Done=env.OneStep(action)\n",
    "        agent.store_transition_q(X, action, R, X_next)\n",
    "\n",
    "        if agent.memory_counter >= memory_size:\n",
    "                agent.train_q()      \n",
    "\n",
    "        ## THE EPISODE HAS ENDED, UPDATE   \n",
    "        if Done==1:\n",
    "          R_save_q[n]=np.copy(R)\n",
    "          N_moves_save_q[n]=np.copy(i)\n",
    "          end = time.time()\n",
    "          Training_time_per_episode[n] = abs(start-end)/1000\n",
    "          break\n",
    "\n",
    "        # IF THE EPISODE IS NOT OVER, ADD REWARD\n",
    "        else:\n",
    "          ep_reward += R\n",
    "            \n",
    "            \n",
    "        # NEXT STATE AND CO. BECOME ACTUAL STATE...     \n",
    "        S=np.copy(S_next)\n",
    "        X=np.copy(X_next)\n",
    "        allowed_a=np.copy(allowed_a_next)\n",
    "        \n",
    "        i += 1  # UPDATE COUNTER FOR NUMBER OF ACTIONS\n",
    "    \n",
    "           "
   ]
  },
  {
   "cell_type": "code",
   "source": [
    "# Print average reward and average number of steps overall\n",
    "print(f'Results over the whole Q_learning training with {N_episodes} episodes:')\n",
    "print('Trained_Agent, Average reward:',np.mean(R_save_q),'Number of steps: ',np.mean(N_moves_save_q))"
   ],
   "metadata": {
    "id": "aBwFIOK8SfzR",
    "colab": {
     "base_uri": "https://localhost:8080/"
    },
    "outputId": "b71c4c1e-0240-4b81-a2a4-f8b121c33265",
    "pycharm": {
     "is_executing": false
    }
   },
   "id": "aBwFIOK8SfzR",
   "execution_count": null,
   "outputs": []
  },
  {
   "cell_type": "code",
   "source": [
    "# Plot: Reward per game\n",
    "plt.rcParams.update({'font.size': 20})\n",
    "\n",
    "fig, axs = plt.subplots(2,figsize=(15,10))\n",
    "\n",
    "axs[0].plot(np.arange(0,N_episodes), R_save_q, 'b')\n",
    "axs[1].plot(np.arange(0,N_episodes-1999), moving_average(R_save_q, n=2000), 'r')\n",
    "axs[0].set_title(\"Reward per game q_learning\")\n",
    "axs[1].set_title(\"Exponential moving average q_learning\")\n",
    "plt.xticks([])"
   ],
   "metadata": {
    "id": "zM2uEmr_jlgP",
    "pycharm": {
     "is_executing": false
    }
   },
   "id": "zM2uEmr_jlgP",
   "execution_count": null,
   "outputs": []
  },
  {
   "cell_type": "code",
   "source": [
    "# Plot: Number of moves per game vs training time\n",
    "plt.rcParams.update({'font.size': 20})\n",
    "plt.rcParams[\"figure.figsize\"] = (15,10)\n",
    "\n",
    "plt.plot(np.arange(0,N_episodes), N_moves_save_q, 'g')\n",
    "plt.ylabel('Number of moves')\n",
    "plt.xlabel('Number of games')"
   ],
   "metadata": {
    "id": "b-vz-fulsv9j",
    "pycharm": {
     "is_executing": false
    }
   },
   "id": "b-vz-fulsv9j",
   "execution_count": null,
   "outputs": []
  },
  {
   "cell_type": "markdown",
   "source": [
    "\n",
    "Q-Learning is an example of model-free learning algorithm. It does not assume that agent knows anything about the state-transition and reward models. However, the agent will discover what are the good and bad actions by trial and error.\n",
    "The basic idea of Q-Learning is to approximate the state-action pairs Q-function from the samples of Q(s, a) that we observe during interaction with the enviornment. This approach is known as Time-Difference Learning."
   ],
   "metadata": {
    "collapsed": false,
    "pycharm": {
     "name": "#%% md\n"
    },
    "id": "IKtDM6m--bLn"
   },
   "id": "IKtDM6m--bLn"
  },
  {
   "cell_type": "markdown",
   "source": [
    "# Deep SARSA Implementation"
   ],
   "metadata": {
    "id": "gMfsh611oeGg"
   },
   "id": "gMfsh611oeGg"
  },
  {
   "cell_type": "code",
   "execution_count": null,
   "outputs": [],
   "source": [
    "# HYPERPARAMETERS USED FOR SARSA(FOR A GRID SIZE OF 4)\n",
    "\n",
    "epsilon_0 = 0.6    # STARTING VALUE OF EPSILON FOR THE EPSILON-GREEDY POLICY\n",
    "beta = 0.00005      # THE PARAMETER SETS HOW QUICKLY THE VALUE OF EPSILON IS DECAYING (SEE epsilon_f BELOW)\n",
    "gamma = 0.85        # THE DISCOUNT FACTOR\n",
    "eta = 0.01        # THE LEARNING RATE\n",
    "N_episodes = 100000 # THE NUMBER OF GAMES TO BE PLAYED \n",
    "memory_size = 2000 # THE SIZE OF THE MEMORY\n",
    "reward_draw = 0  # THE REWARD FOR A DRAW, YOU CAN CHANGE THIS TO REPRODUCE OUR RESULTS TO -1\n",
    "reward_check = 1 # THE REWARD FOR A CHECK\n",
    "\n",
    "# SAVING VARIABLES\n",
    "R_save_sarsa = np.zeros([N_episodes, 1])\n",
    "N_moves_save_sarsa = np.zeros([N_episodes, 1])\n",
    "Training_time_per_episode = np.zeros([N_episodes, 1])\n",
    "\n",
    "# PRINT AVERAGE REWARD EVERY NUMBER OF EPISODES\n",
    "print_every = 500"
   ],
   "metadata": {
    "collapsed": false,
    "pycharm": {
     "name": "#%%\n",
     "is_executing": false
    }
   }
  },
  {
   "cell_type": "code",
   "source": [
    "\n",
    "agent = ChessAgent()\n",
    "\n",
    "print(f\"Average rewards for every {print_every} episodes:\")\n",
    "print('---------------------------------------')\n",
    "for n in range(N_episodes):\n",
    "\n",
    "    if n % print_every == 0 and n != 0:\n",
    "      print('Average reward:',np.mean(R_save_sarsa[n-print_every:n]),'Number of steps: ',np.mean(N_moves_save_sarsa[n-print_every:n]), 'Training time: ',np.mean(Training_time_per_episode[n-500:n]))\n",
    "\n",
    "    start = time.time()\n",
    "    epsilon_f = epsilon_0 / (1 + beta * n)   ## DECAYING EPSILON\n",
    "    Done=0                                   ## SET DONE TO ZERO (BEGINNING OF THE EPISODE)\n",
    "    i = 1                                    ## COUNTER FOR NUMBER OF ACTIONS\n",
    "    \n",
    "    S,X,allowed_a=env.Initialise_game(reward_draw=reward_draw, reward_check=reward_check)      ## INITIALISE GAME\n",
    "\n",
    "    action1 = agent.choose_action(X, allowed_a, epsilon_f)\n",
    "\n",
    "    ep_reward = 0\n",
    "    \n",
    "    while Done==0:                           ## START THE EPISODE\n",
    "        \n",
    "        S_next,X_next,allowed_a_next,R,Done=env.OneStep(action1)\n",
    "\n",
    "        if agent.memory_counter >= memory_size:\n",
    "              agent.train_sarsa()  \n",
    "\n",
    "        if Done==1: \n",
    "          action2 = 0  # just to add something to the memory       \n",
    "          agent.store_transition_sarsa(X, action1, action2, R, X_next, Done)\n",
    "          R_save_sarsa[n]=np.copy(R)\n",
    "          N_moves_save_sarsa[n]=np.copy(i)\n",
    "          end = time.time()\n",
    "          Training_time_per_episode[n] = (abs(start-end)/1000)\n",
    "          break\n",
    "        \n",
    "        action2 = agent.choose_action(X_next, allowed_a_next, epsilon_f)\n",
    "        \n",
    "        agent.store_transition_sarsa(X, action1, action2, R, X_next, Done)\n",
    "\n",
    "       \n",
    "\n",
    "        ## THE EPISODE HAS ENDED, UPDATE\n",
    "        if Done==1:\n",
    "          R_save_sarsa[n]=np.copy(R)\n",
    "          N_moves_save_sarsa[n]=np.copy(i)\n",
    "          end = time.time()\n",
    "          Training_time_per_episode[n] = (abs(start-end)/1000)\n",
    "          break\n",
    "\n",
    "        # IF THE EPISODE IS NOT OVER, ADD REWARD\n",
    "        else:\n",
    "          ep_reward += R\n",
    "            \n",
    "            \n",
    "        # NEXT STATE AND CO. BECOME ACTUAL STATE...     \n",
    "        S=np.copy(S_next)\n",
    "        X=np.copy(X_next)\n",
    "        action1=np.copy(action2)\n",
    "        allowed_a=np.copy(allowed_a_next)\n",
    "        \n",
    "        i += 1  # UPDATE COUNTER FOR NUMBER OF ACTIONS\n",
    "  "
   ],
   "metadata": {
    "id": "BI4xo7UZoj-O",
    "colab": {
     "base_uri": "https://localhost:8080/"
    },
    "outputId": "cd03f15b-9c0b-4ae5-e4e3-6104e5520387",
    "pycharm": {
     "is_executing": false
    }
   },
   "id": "BI4xo7UZoj-O",
   "execution_count": null,
   "outputs": []
  },
  {
   "cell_type": "code",
   "execution_count": null,
   "outputs": [],
   "source": [
    "# Print average reward and average number of steps overall\n",
    "print(f'Results over the whole SARSA training with {N_episodes} episodes:')\n",
    "print('Trained_Agent, Average reward:',np.mean(R_save_sarsa),'Number of steps: ',np.mean(N_moves_save_sarsa))\n",
    "\n",
    "# Print average reward and average number of steps overall\n",
    "print(f'Results over the whole Q_learning training with {N_episodes} episodes:')\n",
    "print('Trained_Agent, Average reward:',np.mean(R_save_q),'Number of steps: ',np.mean(N_moves_save_q))"
   ],
   "metadata": {
    "collapsed": false,
    "pycharm": {
     "name": "#%%\n",
     "is_executing": false
    }
   }
  },
  {
   "cell_type": "code",
   "execution_count": null,
   "outputs": [],
   "source": [
    "# Plot: Reward per game\n",
    "plt.rcParams.update({'font.size': 20})\n",
    "\n",
    "fig, axs = plt.subplots(2,figsize=(15,10))\n",
    "\n",
    "axs[0].plot(np.arange(0,N_episodes), R_save_sarsa, 'b')\n",
    "axs[1].plot(np.arange(0,N_episodes-1999), moving_average(R_save_sarsa, n=2000), 'r')\n",
    "axs[0].set_title(\"Reward per game q_learning\")\n",
    "axs[1].set_title(\"Exponential moving average q_learning\")\n",
    "plt.xticks([])"
   ],
   "metadata": {
    "collapsed": false,
    "pycharm": {
     "name": "#%%\n",
     "is_executing": false
    }
   }
  },
  {
   "cell_type": "code",
   "execution_count": null,
   "outputs": [],
   "source": [
    "# Plot: Number of moves per game vs training time\n",
    "plt.rcParams.update({'font.size': 20})\n",
    "plt.rcParams[\"figure.figsize\"] = (15,10)\n",
    "\n",
    "plt.plot(np.arange(0,N_episodes), N_moves_save_sarsa, 'g')\n",
    "plt.ylabel('Number of moves')\n",
    "plt.xlabel('Number of games')"
   ],
   "metadata": {
    "collapsed": false,
    "pycharm": {
     "name": "#%%\n",
     "is_executing": false
    }
   }
  },
  {
   "cell_type": "markdown",
   "source": [
    "# Deep Q_Learning vs SARS"
   ],
   "metadata": {
    "collapsed": false
   }
  },
  {
   "cell_type": "code",
   "execution_count": null,
   "outputs": [],
   "source": [
    "# Print average reward and average number of steps overall\n",
    "print(f'Results over the whole SARSA training with {N_episodes} episodes:')\n",
    "print('Trained_Agent, Average reward:',np.mean(R_save_sarsa),'Number of steps: ',np.mean(N_moves_save_sarsa))"
   ],
   "metadata": {
    "collapsed": false,
    "pycharm": {
     "name": "#%%\n",
     "is_executing": false
    }
   }
  },
  {
   "cell_type": "code",
   "source": [
    "## PRINT STEPS OF AN EPISODE CONSIDERING THE TRAINED AGENT\n",
    "\n",
    "S,X,allowed_a=env.Initialise_game()                       # INTIALISE GAME\n",
    "\n",
    "print(S)                                                  # PRINT CHESS BOARD (SEE THE DESCRIPTION ABOVE)\n",
    "\n",
    "print('check? ',env.check)                                # PRINT VARIABLE THAT TELLS IF ENEMY KING IS IN CHECK (1) OR NOT (0)\n",
    "print('dofk2 ',np.sum(env.dfk2_constrain).astype(int))    # PRINT THE NUMBER OF LOCATIONS THAT THE ENEMY KING CAN MOVE TO\n",
    "\n",
    "\n",
    "for i in range(10):\n",
    "    \n",
    "    a_agent = agent.choose_action(X, allowed_a, 0)\n",
    "\n",
    "    S,X,allowed_a,R,Done=env.OneStep(a_agent)   # UPDATE THE ENVIRONMENT\n",
    "    \n",
    "    \n",
    "    ## PRINT CHESS BOARD AND VARIABLES\n",
    "    print('')\n",
    "    print(S)\n",
    "    print(R,'', Done)\n",
    "    print('check? ',env.check)\n",
    "    print('dofk2 ',np.sum(env.dfk2_constrain).astype(int))\n",
    "    \n",
    "    \n",
    "    # TERMINATE THE EPISODE IF Done=True (DRAW OR CHECKMATE)\n",
    "    if Done:\n",
    "        break\n",
    "        "
   ],
   "metadata": {
    "colab": {
     "base_uri": "https://localhost:8080/"
    },
    "id": "2YdLivsyN3R9",
    "outputId": "c0962646-1a19-4c79-a51f-b9b9006ac49b",
    "pycharm": {
     "is_executing": false
    }
   },
   "id": "2YdLivsyN3R9",
   "execution_count": null,
   "outputs": []
  }
 ],
 "metadata": {
  "kernelspec": {
   "display_name": "Python 3 (ipykernel)",
   "language": "python",
   "name": "python3"
  },
  "language_info": {
   "codemirror_mode": {
    "name": "ipython",
    "version": 3
   },
   "file_extension": ".py",
   "mimetype": "text/x-python",
   "name": "python",
   "nbconvert_exporter": "python",
   "pygments_lexer": "ipython3",
   "version": "3.9.10"
  },
  "pycharm": {
   "stem_cell": {
    "cell_type": "raw",
    "source": [],
    "metadata": {
     "collapsed": false
    }
   }
  },
  "colab": {
   "name": "Copy of Assignment (2).ipynb",
   "provenance": [],
   "collapsed_sections": [],
   "include_colab_link": true
  },
  "accelerator": "GPU"
 },
 "nbformat": 4,
 "nbformat_minor": 5
}