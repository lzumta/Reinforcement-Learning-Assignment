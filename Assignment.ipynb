{
  "cells": [
    {
      "cell_type": "markdown",
      "metadata": {
        "id": "view-in-github",
        "colab_type": "text"
      },
      "source": [
        "<a href=\"https://colab.research.google.com/github/lzumta/Reinforcement-Learning-Assignment/blob/main/Assignment.ipynb\" target=\"_parent\"><img src=\"https://colab.research.google.com/assets/colab-badge.svg\" alt=\"Open In Colab\"/></a>"
      ]
    },
    {
      "cell_type": "markdown",
      "id": "02944396",
      "metadata": {
        "id": "02944396"
      },
      "source": [
        "# Assignment"
      ]
    },
    {
      "cell_type": "code",
      "execution_count": null,
      "id": "c9652bc6",
      "metadata": {
        "pycharm": {
          "is_executing": false
        },
        "id": "c9652bc6"
      },
      "outputs": [],
      "source": [
        "# Import \n",
        "\n",
        "import torch\n",
        "import math\n",
        "import random\n",
        "import numpy as np\n",
        "import matplotlib\n",
        "import matplotlib.pyplot as plt\n",
        "import torch.nn as nn\n",
        "import torch.nn.functional as F\n",
        "import tensorflow as tf\n",
        "from decimal import Decimal\n",
        "from tensorflow import keras\n",
        "from tensorflow.keras import layers\n",
        "from degree_freedom_queen import *\n",
        "from degree_freedom_king1 import *\n",
        "from degree_freedom_king2 import *\n",
        "from generate_game import *\n",
        "from Chess_env import *\n",
        "\n",
        "\n",
        "size_board = 4"
      ]
    },
    {
      "cell_type": "markdown",
      "id": "0bceca7c",
      "metadata": {
        "id": "0bceca7c"
      },
      "source": [
        "## The Environment\n",
        "\n",
        "You can find the environment in the file Chess_env, which contains the class Chess_env. To define an object, you need to provide the board size considered as input. In our example, size_board=4. \n",
        "Chess_env is composed by the following methods:\n",
        "\n",
        "1. Initialise_game. The method initialises an episode by placing the three pieces considered (Agent's king and queen, enemy's king) in the chess board. The outputs of the method are described below in order.\n",
        "\n",
        "     S $\\;$ A matrix representing the board locations filled with 4 numbers: 0, no piece in that position; 1, location of the \n",
        "     agent's king; 2 location of the queen; 3 location of the enemy king.\n",
        "     \n",
        "     X $\\;$ The features, that is the input to the neural network. See the assignment for more information regarding the            definition of the features adopted. To personalise this, go into the Features method of the class Chess_env() and change        accordingly.\n",
        "     \n",
        "     allowed_a $\\;$ The allowed actions that the agent can make. The agent is moving a king, with a total number of 8                possible actions, and a queen, with a total number of $(board_{size}-1)\\times 8$ actions. The total number of possible actions correspond      to the sum of the two, but not all actions are allowed in a given position (movements to locations outside the borders or      against chess rules). Thus, the variable allowed_a is a vector that is one (zero) for an action that the agent can (can't)      make. Be careful, apply the policy considered on the actions that are allowed only.\n",
        "     \n",
        "\n",
        "2. OneStep. The method performs a one step update of the system. Given as input the action selected by the agent, it updates the chess board by performing that action and the response of the enemy king (which is a random allowed action in the settings considered). The first three outputs are the same as for the Initialise_game method, but the variables are computed for the position reached after the update of the system. The fourth and fifth outputs are:\n",
        "\n",
        "     R $\\;$ The reward. To change this, look at the OneStep method of the class where the rewards are set.\n",
        "     \n",
        "     Done $\\;$ A variable that is 1 if the episode has ended (checkmate or draw).\n",
        "     \n",
        "     \n",
        "3. Features. Given the chessboard position, the method computes the features.\n",
        "\n",
        "This information and a quick analysis of the class should be all you need to get going. The other functions that the class exploits are uncommented and constitute an example on how not to write a python code. You can take a look at them if you want, but it is not necessary.\n",
        "\n",
        "\n",
        "\n",
        "\n"
      ]
    },
    {
      "cell_type": "code",
      "execution_count": null,
      "id": "9593a299",
      "metadata": {
        "pycharm": {
          "is_executing": false
        },
        "id": "9593a299"
      },
      "outputs": [],
      "source": [
        "## INITIALISE THE ENVIRONMENT\n",
        "\n",
        "env=Chess_Env(size_board)"
      ]
    },
    {
      "cell_type": "code",
      "execution_count": null,
      "id": "bbc05bfd",
      "metadata": {
        "pycharm": {
          "is_executing": false
        },
        "id": "bbc05bfd"
      },
      "outputs": [],
      "source": [
        "## PRINT 5 STEPS OF AN EPISODE CONSIDERING A RANDOM AGENT\n",
        "\n",
        "S,X,allowed_a=env.Initialise_game()                       # INTIALISE GAME\n",
        "\n",
        "print(S)                                                  # PRINT CHESS BOARD (SEE THE DESCRIPTION ABOVE)\n",
        "\n",
        "print('check? ',env.check)                                # PRINT VARIABLE THAT TELLS IF ENEMY KING IS IN CHECK (1) OR NOT (0)\n",
        "print('dofk2 ',np.sum(env.dfk2_constrain).astype(int))    # PRINT THE NUMBER OF LOCATIONS THAT THE ENEMY KING CAN MOVE TO\n",
        "\n",
        "\n",
        "for i in range(5):\n",
        "    \n",
        "    a,_=np.where(allowed_a==1)                  # FIND WHAT THE ALLOWED ACTIONS ARE\n",
        "    #np.random.seed(42)\n",
        "    a_agent=np.random.permutation(a)[0]         # MAKE A RANDOM ACTION\n",
        "\n",
        "    S,X,allowed_a,R,Done=env.OneStep(a_agent)   # UPDATE THE ENVIRONMENT\n",
        "    \n",
        "    \n",
        "    ## PRINT CHESS BOARD AND VARIABLES\n",
        "    print('')\n",
        "    print(S)\n",
        "    print(R,'', Done)\n",
        "    print('-----------------')\n",
        "    print(X)\n",
        "    #print(allowed_a)\n",
        "    print('check? ',env.check)\n",
        "    print('dofk2 ',np.sum(env.dfk2_constrain).astype(int))\n",
        "    \n",
        "    \n",
        "    # TERMINATE THE EPISODE IF Done=True (DRAW OR CHECKMATE)\n",
        "    if Done:\n",
        "        break\n",
        "        \n"
      ]
    },
    {
      "cell_type": "code",
      "execution_count": null,
      "id": "fc16cf7b",
      "metadata": {
        "pycharm": {
          "is_executing": false
        },
        "id": "fc16cf7b"
      },
      "outputs": [],
      "source": [
        "# PERFORM N_episodes=1000 EPISODES MAKING RANDOM ACTIONS AND COMPUTE THE AVERAGE REWARD AND NUMBER OF MOVES \n",
        "np.random.seed(42)\n",
        "S,X,allowed_a=env.Initialise_game()\n",
        "N_episodes=1000\n",
        "\n",
        "# VARIABLES WHERE TO SAVE THE FINAL REWARD IN AN EPISODE AND THE NUMBER OF MOVES \n",
        "R_save_random = np.zeros([N_episodes, 1])\n",
        "N_moves_save_random = np.zeros([N_episodes, 1])\n",
        "\n",
        "rewards = []\n",
        "moves = []\n",
        "\n",
        "for n in range(N_episodes):\n",
        "\n",
        "    if n % 500 == 0:\n",
        "      print('Average reward:',np.mean(rewards[n-500:n]),'Number of steps: ',np.mean(moves[n-500:n]))\n",
        "    \n",
        "    S,X,allowed_a=env.Initialise_game()     # INITIALISE GAME\n",
        "    Done=0                                  # SET Done=0 AT THE BEGINNING\n",
        "    i=1                                     # COUNTER FOR THE NUMBER OF ACTIONS (MOVES) IN AN EPISODE\n",
        "\n",
        "    \n",
        "    # UNTIL THE EPISODE IS NOT OVER...(Done=0)\n",
        "    while Done==0:\n",
        "        \n",
        "        # SAME AS THE CELL BEFORE, BUT SAVING THE RESULTS WHEN THE EPISODE TERMINATES \n",
        "        \n",
        "        a,_=np.where(allowed_a==1)\n",
        "        a_agent=np.random.permutation(a)[0]\n",
        "\n",
        "        S,X,allowed_a,R,Done=env.OneStep(a_agent)\n",
        "        \n",
        "        \n",
        "        if Done:\n",
        "            R_save_random[n]=np.copy(R)\n",
        "            N_moves_save_random[n]=np.copy(i)\n",
        "            rewards.append(R)\n",
        "            moves.append(i)\n",
        "            break\n",
        "\n",
        "        i=i+1                               # UPDATE THE COUNTER\n",
        "\n",
        "\n",
        "\n",
        "# AS YOU SEE, THE PERFORMANCE OF A RANDOM AGENT ARE NOT GREAT, SINCE THE MAJORITY OF THE POSITIONS END WITH A DRAW \n",
        "# (THE ENEMY KING IS NOT IN CHECK AND CAN'T MOVE)\n",
        "\n",
        "print('Random_Agent, Average reward:',np.mean(R_save_random),'Number of steps: ',np.mean(N_moves_save_random))\n"
      ]
    },
    {
      "cell_type": "code",
      "source": [
        "plt.rcParams.update({'font.size': 20})\n",
        "\n",
        "fig, axs = plt.subplots(2,figsize=(15,10))\n",
        "\n",
        "axs[0].plot(np.arange(0,N_episodes), R_save_random, 'b')\n",
        "axs[1].plot(np.arange(0,N_episodes-1999), moving_average(R_save_random, n=2000), 'r')\n",
        "axs[0].set_title(\"Reward per game\")\n",
        "axs[1].set_title(\"Exponential moving average\")\n",
        "plt.xticks([])"
      ],
      "metadata": {
        "id": "OCluRLg7hjHY"
      },
      "id": "OCluRLg7hjHY",
      "execution_count": null,
      "outputs": []
    },
    {
      "cell_type": "code",
      "source": [
        "plt.rcParams.update({'font.size': 20})\n",
        "plt.rcParams[\"figure.figsize\"] = (10,7.5)\n",
        "\n",
        "plt.plot(np.arange(0,N_episodes),N_moves_save_random,'g')\n",
        "plt.legend('Number of moves')\n",
        "plt.xlabel('Number of episodes')\n",
        "plt.ylabel('Number of moves')"
      ],
      "metadata": {
        "id": "nXKI3cwHitLz"
      },
      "id": "nXKI3cwHitLz",
      "execution_count": null,
      "outputs": []
    },
    {
      "cell_type": "code",
      "execution_count": null,
      "id": "ece20429",
      "metadata": {
        "pycharm": {
          "is_executing": false
        },
        "id": "ece20429"
      },
      "outputs": [],
      "source": [
        "# INITIALISE THE PARAMETERS OF YOUR NEURAL NETWORK AND...\n",
        "# PLEASE CONSIDER TO USE A MASK OF ONE FOR THE ACTION MADE AND ZERO OTHERWISE IF YOU ARE NOT USING VANILLA GRADIENT DESCENT...\n",
        "# WE SUGGEST A NETWORK WITH ONE HIDDEN LAYER WITH SIZE 200. \n",
        "\n",
        "\n",
        "S,X,allowed_a=env.Initialise_game()\n",
        "N_a=np.shape(allowed_a)[0]   # TOTAL NUMBER OF POSSIBLE ACTIONS\n",
        "\n",
        "N_in=np.shape(X)[0]    ## INPUT SIZE\n",
        "N_h=200                ## NUMBER OF HIDDEN NODES\n",
        "\n",
        "## INITALISE YOUR NEURAL NETWORK...\n",
        "class Net(nn.Module):\n",
        "    def __init__(self):\n",
        "        super(Net, self).__init__()\n",
        "        self.fc1 = nn.Linear(N_in, N_h)\n",
        "        self.out = nn.Linear(N_h, N_a)\n",
        "\n",
        "    def forward(self,x):\n",
        "        x = self.fc1(x)\n",
        "        x = F.relu(x)\n",
        "        action = self.out(x)\n",
        "        return action\n",
        "\n",
        "\n",
        "\n",
        "# HYPERPARAMETERS SUGGESTED (FOR A GRID SIZE OF 4)\n",
        "\n",
        "epsilon_0 = 0.6    # STARTING VALUE OF EPSILON FOR THE EPSILON-GREEDY POLICY\n",
        "beta = 0.00005      # THE PARAMETER SETS HOW QUICKLY THE VALUE OF EPSILON IS DECAYING (SEE epsilon_f BELOW)\n",
        "gamma = 0.85        # THE DISCOUNT FACTOR\n",
        "eta = 0.01        # THE LEARNING RATE\n",
        "\n",
        "N_episodes = 100000 # THE NUMBER OF GAMES TO BE PLAYED \n",
        "\n",
        "# SAVING VARIABLES\n",
        "R_save = np.zeros([N_episodes, 1])\n",
        "N_moves_save = np.zeros([N_episodes, 1])"
      ]
    },
    {
      "cell_type": "code",
      "source": [
        "class ChessAgent():\n",
        "  def __init__(self):\n",
        "        super(DQN, self).__init__()\n",
        "\n",
        "  def choose_action(self, epsilon, allowed_a):\n",
        "    a,_=np.where(allowed_a==1)\n",
        "    if np.random.random() > epsilon: \n",
        "      #max action here...\n",
        "        return 0\n",
        "    else:\n",
        "        action = np.random.permutation(a)[0]\n",
        "    return action"
      ],
      "metadata": {
        "id": "tlQSftJdehAc"
      },
      "id": "tlQSftJdehAc",
      "execution_count": null,
      "outputs": []
    },
    {
      "cell_type": "code",
      "execution_count": null,
      "id": "e6ba1f84",
      "metadata": {
        "pycharm": {
          "name": "#%%\n",
          "is_executing": false
        },
        "id": "e6ba1f84"
      },
      "outputs": [],
      "source": [
        "# TRAINING LOOP BONE STRUCTURE...\n",
        "# I WROTE FOR YOU A RANDOM AGENT (THE RANDOM AGENT WILL BE SLOWER TO GIVE CHECKMATE THAN AN OPTIMISED ONE, \n",
        "# SO DON'T GET CONCERNED BY THE TIME IT TAKES), CHANGE WITH YOURS ...\n",
        "\n",
        "for n in range(N_episodes):\n",
        "\n",
        "    epsilon_f = epsilon_0 / (1 + beta * n)   ## DECAYING EPSILON\n",
        "    Done=0                                   ## SET DONE TO ZERO (BEGINNING OF THE EPISODE)\n",
        "    i = 1                                    ## COUNTER FOR NUMBER OF ACTIONS\n",
        "    \n",
        "    S,X,allowed_a=env.Initialise_game()      ## INITIALISE GAME\n",
        "    print(n)                                 ## REMOVE THIS OF COURSE, WE USED THIS TO CHECK THAT IT WAS RUNNING\n",
        "    \n",
        "    while Done==0:                           ## START THE EPISODE\n",
        "        \n",
        "        \n",
        "        ## THIS IS A RANDOM AGENT, CHANGE IT...\n",
        "        \n",
        "        a,_=np.where(allowed_a==1)\n",
        "        a_agent=np.random.permutation(a)[0]\n",
        "\n",
        "                \n",
        "        S_next,X_next,allowed_a_next,R,Done=env.OneStep(a_agent)\n",
        "        \n",
        "        ## THE EPISODE HAS ENDED, UPDATE...BE CAREFUL, THIS IS THE LAST STEP OF THE EPISODE\n",
        "        if Done==1:\n",
        "            \n",
        "            \n",
        "            break\n",
        "        \n",
        "        \n",
        "        \n",
        "        \n",
        "        # IF THE EPISODE IS NOT OVER...\n",
        "        else:\n",
        "            \n",
        "            ## ONLY TO PUT SUMETHING\n",
        "            PIPPO=1\n",
        "            \n",
        "            \n",
        "        # NEXT STATE AND CO. BECOME ACTUAL STATE...     \n",
        "        S=np.copy(S_next)\n",
        "        X=np.copy(X_next)\n",
        "        allowed_a=np.copy(allowed_a_next)\n",
        "        \n",
        "        i += 1  # UPDATE COUNTER FOR NUMBER OF ACTIONS"
      ]
    },
    {
      "cell_type": "code",
      "source": [
        "print('Trained_Agent, Average reward:',np.mean(R_save),'Number of steps: ',np.mean(N_moves_save))"
      ],
      "metadata": {
        "id": "aBwFIOK8SfzR"
      },
      "id": "aBwFIOK8SfzR",
      "execution_count": null,
      "outputs": []
    },
    {
      "cell_type": "code",
      "source": [
        "# moving average\n",
        "def moving_average(a, n) :\n",
        "    ret = np.cumsum(a, dtype=float)\n",
        "    ret[n:] = ret[n:] - ret[:-n]\n",
        "    return ret[n - 1:] / n\n",
        "#print(moving_average(R_save, n=500))"
      ],
      "metadata": {
        "id": "S2c9WlZtlKqA"
      },
      "id": "S2c9WlZtlKqA",
      "execution_count": null,
      "outputs": []
    },
    {
      "cell_type": "code",
      "source": [
        "# Plot: Reward per game\n",
        "plt.rcParams.update({'font.size': 20})\n",
        "\n",
        "fig, axs = plt.subplots(2,figsize=(15,10))\n",
        "\n",
        "axs[0].plot(np.arange(0,N_episodes), R_save, 'b')\n",
        "axs[1].plot(np.arange(0,N_episodes-1999), moving_average(R_save, n=2000), 'r')\n",
        "axs[0].set_title(\"Reward per game\")\n",
        "axs[1].set_title(\"Exponential moving average\")\n",
        "plt.xticks([])"
      ],
      "metadata": {
        "id": "zM2uEmr_jlgP"
      },
      "id": "zM2uEmr_jlgP",
      "execution_count": null,
      "outputs": []
    },
    {
      "cell_type": "code",
      "source": [
        "# Plot: Number of moves per game vs training time\n",
        "plt.rcParams.update({'font.size': 20})\n",
        "plt.rcParams[\"figure.figsize\"] = (15,10)\n",
        "\n",
        "plt.plot(np.arange(0,N_episodes), N_moves_save, 'g')\n",
        "plt.ylabel('Number of moves')\n",
        "plt.xlabel('Number of games')"
      ],
      "metadata": {
        "id": "b-vz-fulsv9j"
      },
      "id": "b-vz-fulsv9j",
      "execution_count": null,
      "outputs": []
    },
    {
      "cell_type": "markdown",
      "source": [
        "\n",
        "Q-Learning is an example of model-free learning algorithm. It does not assume that agent knows anything about the state-transition and reward models. However, the agent will discover what are the good and bad actions by trial and error.\n",
        "The basic idea of Q-Learning is to approximate the state-action pairs Q-function from the samples of Q(s, a) that we observe during interaction with the enviornment. This approach is known as Time-Difference Learning."
      ],
      "metadata": {
        "collapsed": false,
        "pycharm": {
          "name": "#%% md\n"
        },
        "id": "IKtDM6m--bLn"
      },
      "id": "IKtDM6m--bLn"
    }
  ],
  "metadata": {
    "kernelspec": {
      "display_name": "Python 3 (ipykernel)",
      "language": "python",
      "name": "python3"
    },
    "language_info": {
      "codemirror_mode": {
        "name": "ipython",
        "version": 3
      },
      "file_extension": ".py",
      "mimetype": "text/x-python",
      "name": "python",
      "nbconvert_exporter": "python",
      "pygments_lexer": "ipython3",
      "version": "3.9.10"
    },
    "pycharm": {
      "stem_cell": {
        "cell_type": "raw",
        "source": [],
        "metadata": {
          "collapsed": false
        }
      }
    },
    "colab": {
      "name": "Assignment.ipynb",
      "provenance": [],
      "collapsed_sections": [],
      "include_colab_link": true
    },
    "accelerator": "GPU"
  },
  "nbformat": 4,
  "nbformat_minor": 5
}